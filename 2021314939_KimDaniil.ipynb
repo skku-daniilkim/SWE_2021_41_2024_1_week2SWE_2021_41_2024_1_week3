{
  "nbformat": 4,
  "nbformat_minor": 0,
  "metadata": {
    "colab": {
      "provenance": []
    },
    "kernelspec": {
      "name": "python3",
      "display_name": "Python 3"
    },
    "language_info": {
      "name": "python"
    }
  },
  "cells": [
    {
      "cell_type": "markdown",
      "source": [
        "## Task\n",
        "- Complete **isHappy** function following the description below\n",
        "\n",
        "### Happy Number\n",
        "Write an algorithm to determine if a number **n** is happy.\n",
        "\n",
        "A **happy number** is a number defined by the following process:\n",
        "\n",
        "* Starting with any positive integer, replace the number by the sum of the squares of its digits.\n",
        "* Repeat the process until the number equals 1 (where it will stay), or it **loops endlessly in a cycle** which does not include 1.\n",
        "* Those numbers for which this process **ends in 1** are happy.\n",
        "\n",
        "Return **true** if n is a happy number, and **false** if not.\n",
        "\n",
        "Constraints:\n",
        "1 <= n <= $2^{31}$ - 1"
      ],
      "metadata": {
        "id": "TV3Socqg8BVl"
      }
    },
    {
      "cell_type": "code",
      "execution_count": 49,
      "metadata": {
        "id": "5FcxitVf5kdQ",
        "colab": {
          "base_uri": "https://localhost:8080/"
        },
        "outputId": "c1e920e6-0f24-40f9-ce4b-6ced7268602d"
      },
      "outputs": [
        {
          "name": "stdout",
          "output_type": "stream",
          "text": [
            "55\n"
          ]
        },
        {
          "output_type": "execute_result",
          "data": {
            "text/plain": [
              "False"
            ]
          },
          "metadata": {},
          "execution_count": 49
        }
      ],
      "source": [
        "def isHappy(n: int):\n",
        "  sequence: set = set({1}) # keep a sequence of numbers in a hashset\n",
        "  sum: int = int(n)\n",
        "  while sum not in sequence: # repetition -> cycle -> terminate\n",
        "    sequence.add(sum)\n",
        "    digits: str = str(sum)\n",
        "    temp: int = 0\n",
        "    for digit in digits:\n",
        "      temp += int(digit) ** 2\n",
        "    sum = temp\n",
        "\n",
        "  # print(sequence)\n",
        "  return sum == 1"
      ]
    },
    {
      "cell_type": "markdown",
      "source": [
        "**Testcase 1.**\n",
        "\n",
        "**Input**: 19\n",
        "\n",
        "**Output**: True\n",
        "\n",
        "**Explanation**:\n",
        "\n",
        "$1^2 + 9^2 = 82$\n",
        "\n",
        "$8^2 + 2^2 = 68$\n",
        "\n",
        "$6^2 + 8^2 = 100$\n",
        "\n",
        "$1^2 + 0^2 + 0^2 = 1$"
      ],
      "metadata": {
        "id": "eRrh24Ognrqf"
      }
    },
    {
      "cell_type": "markdown",
      "source": [
        "**Testcase 2.**\n",
        "\n",
        "**Input**: 2\n",
        "\n",
        "**Output**: False"
      ],
      "metadata": {
        "id": "dE7YMY8qoPoj"
      }
    },
    {
      "cell_type": "code",
      "source": [
        "# Testcases\n",
        "assert(isHappy(19) == True)\n",
        "assert(isHappy(2) == False)\n",
        "assert(isHappy(85) == False)\n",
        "assert(isHappy(44) == True)\n",
        "assert(isHappy(32) == True)\n",
        "assert(isHappy(13) == True)\n",
        "assert(isHappy(10) == True)\n",
        "assert(isHappy(89) == False)\n",
        "assert(isHappy(145) == False)\n",
        "\n",
        "res:int = 0\n",
        "for i in range(1, 10000000):\n",
        "  if isHappy(i):\n",
        "    res+=1\n",
        "assert(res == 1418853) # source: Projec Euler 92"
      ],
      "metadata": {
        "colab": {
          "base_uri": "https://localhost:8080/"
        },
        "id": "nKC-t8nMYz2s",
        "outputId": "a828391d-76cb-428d-8e32-53df078eedc3"
      },
      "execution_count": 50,
      "outputs": [
        {
          "output_type": "stream",
          "name": "stdout",
          "text": [
            "1418853\n"
          ]
        }
      ]
    }
  ]
}